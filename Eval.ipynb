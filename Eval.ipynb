{
 "cells": [
  {
   "cell_type": "code",
   "execution_count": 1,
   "id": "333f5104-150d-4330-945d-e23766f086a5",
   "metadata": {
    "tags": []
   },
   "outputs": [
    {
     "name": "stderr",
     "output_type": "stream",
     "text": [
      "2025-03-26 01:51:49.097030: I tensorflow/core/util/port.cc:113] oneDNN custom operations are on. You may see slightly different numerical results due to floating-point round-off errors from different computation orders. To turn them off, set the environment variable `TF_ENABLE_ONEDNN_OPTS=0`.\n",
      "2025-03-26 01:51:49.148473: E external/local_xla/xla/stream_executor/cuda/cuda_dnn.cc:9261] Unable to register cuDNN factory: Attempting to register factory for plugin cuDNN when one has already been registered\n",
      "2025-03-26 01:51:49.148515: E external/local_xla/xla/stream_executor/cuda/cuda_fft.cc:607] Unable to register cuFFT factory: Attempting to register factory for plugin cuFFT when one has already been registered\n",
      "2025-03-26 01:51:49.149858: E external/local_xla/xla/stream_executor/cuda/cuda_blas.cc:1515] Unable to register cuBLAS factory: Attempting to register factory for plugin cuBLAS when one has already been registered\n",
      "2025-03-26 01:51:49.158281: I tensorflow/core/platform/cpu_feature_guard.cc:182] This TensorFlow binary is optimized to use available CPU instructions in performance-critical operations.\n",
      "To enable the following instructions: AVX2 AVX512F AVX512_VNNI FMA, in other operations, rebuild TensorFlow with the appropriate compiler flags.\n",
      "2025-03-26 01:51:50.319788: W tensorflow/compiler/tf2tensorrt/utils/py_utils.cc:38] TF-TRT Warning: Could not find TensorRT\n",
      "/home/jovyan/work/AdversarialDomainAdaptation/utils.py:18: UserWarning: Argument(s) 'max_holes, max_height, max_width, min_holes, min_height, min_width' are not valid for transform CoarseDropout\n",
      "  A.CoarseDropout(max_holes=8, max_height=16, max_width=16, min_holes=1, min_height=4, min_width=4, p=0.3),\n",
      "/home/jovyan/work/AdversarialDomainAdaptation/utils.py:22: UserWarning: Argument(s) 'var_limit' are not valid for transform GaussNoise\n",
      "  A.GaussNoise(var_limit=(10.0, 50.0), p=0.3),\n",
      "/tmp/ipykernel_1224327/1391205406.py:13: DeprecationWarning: Importing display from IPython.core.display is deprecated since IPython 7.14, please import from IPython display\n",
      "  from IPython.core.display import HTML, display\n"
     ]
    }
   ],
   "source": [
    "import torch\n",
    "import hydra\n",
    "import pandas as pd\n",
    "from tqdm import tqdm \n",
    "from transformers import ViTForImageClassification\n",
    "from utils import get_dataloaders, set_all_seeds\n",
    "from dataclasses import dataclass, field\n",
    "from typing import Dict\n",
    "from sklearn.metrics import confusion_matrix, ConfusionMatrixDisplay, f1_score, cohen_kappa_score\n",
    "import matplotlib.pyplot as plt\n",
    "from dataclasses import dataclass, field\n",
    "from typing import Dict\n",
    "from IPython.core.display import HTML, display\n",
    "from collections import defaultdict\n",
    "import numpy as np"
   ]
  },
  {
   "cell_type": "code",
   "execution_count": 2,
   "id": "a274b7bb-334a-4fd2-b0c7-fc94739f9be7",
   "metadata": {
    "tags": []
   },
   "outputs": [],
   "source": [
    "set_all_seeds(42)"
   ]
  },
  {
   "cell_type": "code",
   "execution_count": 3,
   "id": "406b0050-ac48-40c8-80b1-522aa0a6d932",
   "metadata": {
    "tags": []
   },
   "outputs": [
    {
     "name": "stdout",
     "output_type": "stream",
     "text": [
      "Config(train=DataConfig(path='datasets/DDR/train', batch_size=64, num_workers=8, ratio=1), val=DataConfig(path='datasets/DDR/valid', batch_size=64, num_workers=8, ratio=1), test=DataConfig(path='datasets/DDR/test', batch_size=64, num_workers=8, ratio=1))\n"
     ]
    }
   ],
   "source": [
    "@dataclass\n",
    "class DataConfig:\n",
    "    path: str\n",
    "    batch_size: int\n",
    "    num_workers: int\n",
    "    ratio : int = 1\n",
    "@dataclass\n",
    "class Config:\n",
    "    train: DataConfig\n",
    "    val: DataConfig\n",
    "    test: DataConfig\n",
    "\n",
    "# Creating the config object from the provided data\n",
    "config = Config(\n",
    "    train=DataConfig(\n",
    "        path='datasets/DDR/train',\n",
    "        batch_size=64,\n",
    "        num_workers=8\n",
    "    ),\n",
    "    val=DataConfig(\n",
    "        path='datasets/DDR/valid',\n",
    "        batch_size=64,\n",
    "        num_workers=8\n",
    "    ),\n",
    "    test=DataConfig(\n",
    "        path='datasets/DDR/test',\n",
    "        batch_size=64,\n",
    "        num_workers=8\n",
    "    )\n",
    ")\n",
    "\n",
    "# Printing the config to verify\n",
    "print(config)"
   ]
  },
  {
   "cell_type": "code",
   "execution_count": 4,
   "id": "c6b48e42-a0d0-4eaa-9da9-a63afc198a8f",
   "metadata": {
    "tags": []
   },
   "outputs": [
    {
     "name": "stdout",
     "output_type": "stream",
     "text": [
      "Config(train=DataConfig(path='datasets/APTOS/train', batch_size=64, num_workers=8, ratio=1), val=DataConfig(path='datasets/APTOS/valid', batch_size=64, num_workers=8, ratio=1), test=DataConfig(path='datasets/APTOS/test', batch_size=64, num_workers=8, ratio=1))\n",
      "Config(train=DataConfig(path='datasets/DDR/train', batch_size=64, num_workers=8, ratio=1), val=DataConfig(path='datasets/DDR/valid', batch_size=64, num_workers=8, ratio=1), test=DataConfig(path='datasets/DDR/test', batch_size=64, num_workers=8, ratio=1))\n",
      "Config(train=DataConfig(path='datasets/FGADR/train', batch_size=64, num_workers=8, ratio=1), val=DataConfig(path='datasets/FGADR/valid', batch_size=64, num_workers=8, ratio=1), test=DataConfig(path='datasets/FGADR/test', batch_size=64, num_workers=8, ratio=1))\n",
      "Config(train=DataConfig(path='datasets/IDRiD/train', batch_size=64, num_workers=8, ratio=1), val=DataConfig(path='datasets/IDRiD/valid', batch_size=64, num_workers=8, ratio=1), test=DataConfig(path='datasets/IDRiD/test', batch_size=64, num_workers=8, ratio=1))\n",
      "Config(train=DataConfig(path='datasets/Messidor/train', batch_size=64, num_workers=8, ratio=1), val=DataConfig(path='datasets/Messidor/valid', batch_size=64, num_workers=8, ratio=1), test=DataConfig(path='datasets/Messidor/test', batch_size=64, num_workers=8, ratio=1))\n"
     ]
    }
   ],
   "source": [
    "ds_names = ['APTOS', 'DDR', 'FGADR', 'IDRiD', 'Messidor']\n",
    "loaders_lst = []\n",
    "ds_names_lst = [] \n",
    "\n",
    "for ds in ds_names: \n",
    "    \n",
    "    config.train.path = f'datasets/{ds}/train'\n",
    "    config.val.path = f'datasets/{ds}/valid'\n",
    "    config.test.path = f'datasets/{ds}/test'\n",
    "    \n",
    "    print(config)\n",
    "    \n",
    "    train_loader, valid_loader, test_loader = get_dataloaders(config, 'eval')\n",
    "    \n",
    "    loaders_lst.append(train_loader)\n",
    "    loaders_lst.append(valid_loader)\n",
    "    loaders_lst.append(test_loader)\n",
    "    \n",
    "    ds_names_lst.append(f'{ds} Train')\n",
    "    ds_names_lst.append(f'{ds} Validation')\n",
    "    ds_names_lst.append(f'{ds} Test')"
   ]
  },
  {
   "cell_type": "code",
   "execution_count": 5,
   "id": "8d415f67-e51e-4d44-8f75-9897f8e9b79f",
   "metadata": {
    "tags": []
   },
   "outputs": [
    {
     "name": "stdout",
     "output_type": "stream",
     "text": [
      "model_epoch_88_kappa_0.421.pth\n"
     ]
    }
   ],
   "source": [
    "!ls checkpoints/checkpoints_fntn_messidor_only_100_ep"
   ]
  },
  {
   "cell_type": "code",
   "execution_count": 6,
   "id": "6766986e-c1a5-42a8-ac56-e579705c9c84",
   "metadata": {
    "tags": []
   },
   "outputs": [],
   "source": [
    "checkpoints_to_eval = [\n",
    "    'checkpoints/checkpoints_DDR_tune/model_epoch_2_acc_0.815.pth', \n",
    "    'checkpoints/checkpoints_adv/model_epoch_793_acc_0.822.pth', \n",
    "    'checkpoints/checkpoints_fntn_messidor_only_100_ep/model_epoch_88_kappa_0.421.pth', \n",
    "]\n",
    "\n",
    "model_names = [\n",
    " 'DDR pretrained',  \n",
    " 'Adversarial Finetune', \n",
    " 'Simple finetune'\n",
    "]"
   ]
  },
  {
   "cell_type": "code",
   "execution_count": null,
   "id": "4737eb92-1b0f-45ad-a87f-d726b43b7bfe",
   "metadata": {
    "tags": []
   },
   "outputs": [],
   "source": [
    "metr_df_dct = defaultdict(dict)\n",
    "\n",
    "\n",
    "for model_nm, ckpt_path in zip(model_names, checkpoints_to_eval):\n",
    "    \n",
    "    print(f'BENCHMARKING {model_nm}')\n",
    "    \n",
    "    model = ViTForImageClassification.from_pretrained('google/vit-large-patch16-224')\n",
    "    model = model.to('cuda')\n",
    "    model.load_state_dict(torch.load(ckpt_path)['model_state_dict'])\n",
    "    model.eval()\n",
    "    \n",
    "    train_acc = []\n",
    "    train_loss = []\n",
    "    train_f1 = []\n",
    "    train_kc = []\n",
    "\n",
    "\n",
    "    valid_acc = []\n",
    "    valid_loss = []\n",
    "    valid_f1 = []\n",
    "    valid_kc = []\n",
    "\n",
    "    test_acc = []\n",
    "    test_loss = []\n",
    "    test_f1 = []\n",
    "    test_kc = []\n",
    "    \n",
    "    for i , (loader, ds_name) in enumerate(zip(loaders_lst, ds_names_lst)): \n",
    "        with torch.inference_mode():\n",
    "\n",
    "            acc = 0\n",
    "            avg_loss = 0\n",
    "\n",
    "            y_pred = []  \n",
    "            y_true = []\n",
    "\n",
    "\n",
    "            for batch_idx, batch in tqdm(enumerate(loader), total=len(loader)): \n",
    "\n",
    "                X, y = batch\n",
    "                X = X.to(model.device)\n",
    "                y = y.to(model.device)\n",
    "\n",
    "                pred = model(pixel_values = X, labels = y)\n",
    "                class_pred = pred.logits.argmax(axis = 1)\n",
    "                acc += (class_pred == y).type(torch.float).mean()\n",
    "                avg_loss += pred.loss.item()\n",
    "\n",
    "                y_pred.extend([item.item() for item in class_pred])\n",
    "                y_true.extend([item.item() for item in y])\n",
    "\n",
    "            print(f'Results of model inference on {ds_name}')\n",
    "            print(f'Loss : {avg_loss / len(loader):.3f}')\n",
    "            print(f'Accuracy : {acc / len(loader):.3f}')   \n",
    "            print(f\"F1-macro : {f1_score(y_true, y_pred, average = 'macro')}\")   \n",
    "            print(f'Cohen-Kappa score : {cohen_kappa_score(y_true, y_pred)}')   \n",
    "            print()\n",
    "            print()\n",
    "\n",
    "#            disp = ConfusionMatrixDisplay( confusion_matrix(y_true, y_pred) )\n",
    "#            show and disp.plot()\n",
    "#            show and plt.show()\n",
    "\n",
    "            if (i % 3) == 0 :\n",
    "                train_acc.append(acc / len(loader))\n",
    "                train_loss.append(avg_loss / len(loader))\n",
    "                train_f1.append(f1_score(y_true, y_pred, average = 'macro'))\n",
    "                train_kc.append(cohen_kappa_score(y_true, y_pred))\n",
    "\n",
    "            if (i % 3) == 1 :\n",
    "                valid_acc.append(acc / len(loader))\n",
    "                valid_loss.append(avg_loss / len(loader))  \n",
    "                valid_f1.append(f1_score(y_true, y_pred, average = 'macro'))\n",
    "                valid_kc.append(cohen_kappa_score(y_true, y_pred))\n",
    "\n",
    "            if (i % 3) == 2 :\n",
    "                test_acc.append(acc / len(loader))\n",
    "                test_loss.append(avg_loss / len(loader)) \n",
    "                test_f1.append(f1_score(y_true, y_pred, average = 'macro'))\n",
    "                test_kc.append(cohen_kappa_score(y_true, y_pred))\n",
    "\n",
    "        \n",
    "    metr_df_dct[model_nm]['kappa_df'] = pd.DataFrame(\n",
    "        {\n",
    "        'Dataset' : ds_names,\n",
    "        'Train split' : [ np.round(item.item(), 3) for item in train_kc],\n",
    "        'Val split' : [ np.round(item.item(), 3) for item in valid_kc],\n",
    "        'Test split' : [ np.round(item.item(), 3) for item in test_kc]\n",
    "        }\n",
    "        )\n",
    "    \n",
    "    metr_df_dct[model_nm]['f1_df']  = pd.DataFrame(\n",
    "        {\n",
    "        'Dataset' : ds_names,\n",
    "        'Train split' : [ np.round(item.item(), 3) for item in train_f1],\n",
    "        'Val split' : [ np.round(item.item(), 3) for item in valid_f1],\n",
    "        'Test split' : [ np.round(item.item(), 3) for item in test_f1]\n",
    "        }\n",
    "        )\n",
    "    \n",
    "    metr_df_dct[model_nm]['acc_df'] = pd.DataFrame(\n",
    "        {\n",
    "        'Dataset' : ds_names,\n",
    "        'Train split' : [ np.round(item.item(), 3) for item in train_acc],\n",
    "        'Val split' : [ np.round(item.item(), 3) for item in valid_acc],\n",
    "        'Test split' : [ np.round(item.item(), 3) for item in test_acc]\n",
    "        }\n",
    "        )\n",
    "    \n",
    "    metr_df_dct[model_nm]['loss_df'] = pd.DataFrame(\n",
    "        {\n",
    "        'Dataset' : ds_names,\n",
    "        'Train split' : [ np.round(item, 3) for item in train_loss],\n",
    "        'Val split' : [ np.round(item, 3) for item in valid_loss],\n",
    "        'Test split' : [ np.round(item, 3) for item in test_loss]\n",
    "        }\n",
    "        )"
   ]
  },
  {
   "cell_type": "code",
   "execution_count": null,
   "id": "d62ed0c1-3e9e-4904-9d8c-1e9a4aea2fb5",
   "metadata": {},
   "outputs": [],
   "source": [
    "model_names = [\n",
    " 'DDR pretrained',  \n",
    " 'Adversarial Finetune', \n",
    " 'Simple finetune'\n",
    "]"
   ]
  },
  {
   "cell_type": "code",
   "execution_count": 8,
   "id": "d5555871-8d20-4775-a29b-83f531b56dc6",
   "metadata": {
    "tags": []
   },
   "outputs": [
    {
     "data": {
      "text/html": [
       "<table border=\"1\" class=\"dataframe\">\n",
       "  <thead>\n",
       "    <tr style=\"text-align: right;\">\n",
       "      <th>Dataset</th>\n",
       "      <th>Train split</th>\n",
       "      <th>Val split</th>\n",
       "      <th>Test split</th>\n",
       "    </tr>\n",
       "  </thead>\n",
       "  <tbody>\n",
       "    <tr>\n",
       "      <td>APTOS</td>\n",
       "      <td>0.386</td>\n",
       "      <td>0.376</td>\n",
       "      <td>0.000</td>\n",
       "    </tr>\n",
       "    <tr>\n",
       "      <td>DDR</td>\n",
       "      <td>0.548</td>\n",
       "      <td>0.696</td>\n",
       "      <td>0.467</td>\n",
       "    </tr>\n",
       "    <tr>\n",
       "      <td>FGADR</td>\n",
       "      <td>0.074</td>\n",
       "      <td>0.083</td>\n",
       "      <td>0.024</td>\n",
       "    </tr>\n",
       "    <tr>\n",
       "      <td>IDRiD</td>\n",
       "      <td>0.350</td>\n",
       "      <td>0.287</td>\n",
       "      <td>0.146</td>\n",
       "    </tr>\n",
       "    <tr>\n",
       "      <td>Messidor</td>\n",
       "      <td>0.165</td>\n",
       "      <td>0.179</td>\n",
       "      <td>0.137</td>\n",
       "    </tr>\n",
       "  </tbody>\n",
       "</table>"
      ],
      "text/plain": [
       "<IPython.core.display.HTML object>"
      ]
     },
     "execution_count": 8,
     "metadata": {},
     "output_type": "execute_result"
    }
   ],
   "source": [
    "HTML(metr_df_dct['DDR pretrained']['kappa_df'].to_html(index=False))"
   ]
  },
  {
   "cell_type": "code",
   "execution_count": 20,
   "id": "999aef9c-19a4-4980-bb7f-8218301ed09b",
   "metadata": {
    "tags": []
   },
   "outputs": [
    {
     "data": {
      "text/plain": [
       "'|    | Dataset   |   Train split |   Val split |   Test split |\\n|---:|:----------|--------------:|------------:|-------------:|\\n|  0 | APTOS     |         1.095 |       1.09  |        3.52  |\\n|  1 | DDR       |         0.71  |       0.615 |        0.812 |\\n|  2 | FGADR     |         1.636 |       1.581 |        1.704 |\\n|  3 | IDRiD     |         1.093 |       1.083 |        1.505 |\\n|  4 | Messidor  |         1.203 |       1.188 |        1.152 |'"
      ]
     },
     "execution_count": 20,
     "metadata": {},
     "output_type": "execute_result"
    }
   ],
   "source": [
    "metr_df_dct['DDR pretrained']['loss_df'].to_markdown()"
   ]
  },
  {
   "cell_type": "code",
   "execution_count": 9,
   "id": "8e1cdcda-1950-4ca2-bf5e-eef046ebb4a6",
   "metadata": {
    "tags": []
   },
   "outputs": [
    {
     "data": {
      "text/html": [
       "<table border=\"1\" class=\"dataframe\">\n",
       "  <thead>\n",
       "    <tr style=\"text-align: right;\">\n",
       "      <th>Dataset</th>\n",
       "      <th>Train split</th>\n",
       "      <th>Val split</th>\n",
       "      <th>Test split</th>\n",
       "    </tr>\n",
       "  </thead>\n",
       "  <tbody>\n",
       "    <tr>\n",
       "      <td>APTOS</td>\n",
       "      <td>0.443</td>\n",
       "      <td>0.429</td>\n",
       "      <td>0.000</td>\n",
       "    </tr>\n",
       "    <tr>\n",
       "      <td>DDR</td>\n",
       "      <td>0.692</td>\n",
       "      <td>0.717</td>\n",
       "      <td>0.478</td>\n",
       "    </tr>\n",
       "    <tr>\n",
       "      <td>FGADR</td>\n",
       "      <td>0.187</td>\n",
       "      <td>0.211</td>\n",
       "      <td>0.157</td>\n",
       "    </tr>\n",
       "    <tr>\n",
       "      <td>IDRiD</td>\n",
       "      <td>0.387</td>\n",
       "      <td>0.397</td>\n",
       "      <td>0.160</td>\n",
       "    </tr>\n",
       "    <tr>\n",
       "      <td>Messidor</td>\n",
       "      <td>0.344</td>\n",
       "      <td>0.296</td>\n",
       "      <td>0.313</td>\n",
       "    </tr>\n",
       "  </tbody>\n",
       "</table>"
      ],
      "text/plain": [
       "<IPython.core.display.HTML object>"
      ]
     },
     "execution_count": 9,
     "metadata": {},
     "output_type": "execute_result"
    }
   ],
   "source": [
    "HTML(metr_df_dct['Adversarial Finetune']['kappa_df'].to_html(index=False))"
   ]
  },
  {
   "cell_type": "code",
   "execution_count": 10,
   "id": "53dcb60e-ca41-4d29-92ba-5e701210f12d",
   "metadata": {
    "tags": []
   },
   "outputs": [
    {
     "data": {
      "text/html": [
       "<table border=\"1\" class=\"dataframe\">\n",
       "  <thead>\n",
       "    <tr style=\"text-align: right;\">\n",
       "      <th>Dataset</th>\n",
       "      <th>Train split</th>\n",
       "      <th>Val split</th>\n",
       "      <th>Test split</th>\n",
       "    </tr>\n",
       "  </thead>\n",
       "  <tbody>\n",
       "    <tr>\n",
       "      <td>APTOS</td>\n",
       "      <td>0.335</td>\n",
       "      <td>0.294</td>\n",
       "      <td>0.000</td>\n",
       "    </tr>\n",
       "    <tr>\n",
       "      <td>DDR</td>\n",
       "      <td>0.259</td>\n",
       "      <td>0.349</td>\n",
       "      <td>0.235</td>\n",
       "    </tr>\n",
       "    <tr>\n",
       "      <td>FGADR</td>\n",
       "      <td>0.151</td>\n",
       "      <td>0.159</td>\n",
       "      <td>0.076</td>\n",
       "    </tr>\n",
       "    <tr>\n",
       "      <td>IDRiD</td>\n",
       "      <td>0.355</td>\n",
       "      <td>0.254</td>\n",
       "      <td>0.234</td>\n",
       "    </tr>\n",
       "    <tr>\n",
       "      <td>Messidor</td>\n",
       "      <td>0.562</td>\n",
       "      <td>0.421</td>\n",
       "      <td>0.358</td>\n",
       "    </tr>\n",
       "  </tbody>\n",
       "</table>"
      ],
      "text/plain": [
       "<IPython.core.display.HTML object>"
      ]
     },
     "execution_count": 10,
     "metadata": {},
     "output_type": "execute_result"
    }
   ],
   "source": [
    "HTML(metr_df_dct['Simple finetune']['kappa_df'].to_html(index=False))"
   ]
  },
  {
   "cell_type": "code",
   "execution_count": 21,
   "id": "4559c351-c839-4401-820c-a9f4b2af6e06",
   "metadata": {
    "tags": []
   },
   "outputs": [
    {
     "data": {
      "text/plain": [
       "'|    | Dataset   |   Train split |   Val split |   Test split |\\n|---:|:----------|--------------:|------------:|-------------:|\\n|  0 | APTOS     |         1.849 |       1.857 |        3.711 |\\n|  1 | DDR       |         1.854 |       1.683 |        2.067 |\\n|  2 | FGADR     |         2.836 |       2.815 |        3.069 |\\n|  3 | IDRiD     |         1.996 |       2.022 |        2.408 |\\n|  4 | Messidor  |         1.298 |       1.724 |        1.739 |'"
      ]
     },
     "execution_count": 21,
     "metadata": {},
     "output_type": "execute_result"
    }
   ],
   "source": [
    "metr_df_dct['Simple finetune']['loss_df'].to_markdown()"
   ]
  },
  {
   "cell_type": "code",
   "execution_count": 22,
   "id": "1ce487b1-efba-4dd5-9984-ab74a2e4471b",
   "metadata": {
    "tags": []
   },
   "outputs": [
    {
     "data": {
      "text/plain": [
       "'|    | Dataset   |   Train split |   Val split |   Test split |\\n|---:|:----------|--------------:|------------:|-------------:|\\n|  0 | APTOS     |         1.207 |       1.189 |        4.924 |\\n|  1 | DDR       |         0.549 |       0.569 |        0.855 |\\n|  2 | FGADR     |         1.559 |       1.516 |        1.67  |\\n|  3 | IDRiD     |         1.054 |       1.101 |        1.653 |\\n|  4 | Messidor  |         0.964 |       1.054 |        0.93  |'"
      ]
     },
     "execution_count": 22,
     "metadata": {},
     "output_type": "execute_result"
    }
   ],
   "source": [
    "metr_df_dct['Adversarial Finetune']['loss_df'].to_markdown()"
   ]
  },
  {
   "cell_type": "code",
   "execution_count": null,
   "id": "1da8c28c-582e-47af-be17-87f496688c6f",
   "metadata": {},
   "outputs": [],
   "source": []
  }
 ],
 "metadata": {
  "kernelspec": {
   "display_name": "Python 3 (ipykernel)",
   "language": "python",
   "name": "python3"
  },
  "language_info": {
   "codemirror_mode": {
    "name": "ipython",
    "version": 3
   },
   "file_extension": ".py",
   "mimetype": "text/x-python",
   "name": "python",
   "nbconvert_exporter": "python",
   "pygments_lexer": "ipython3",
   "version": "3.11.7"
  }
 },
 "nbformat": 4,
 "nbformat_minor": 5
}
