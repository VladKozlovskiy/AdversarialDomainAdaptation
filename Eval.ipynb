{
 "cells": [
  {
   "cell_type": "code",
   "execution_count": 2,
   "id": "333f5104-150d-4330-945d-e23766f086a5",
   "metadata": {
    "tags": []
   },
   "outputs": [],
   "source": [
    "import torch\n",
    "import numpy as np\n",
    "import pandas as pd\n",
    "from tqdm import tqdm \n",
    "from transformers import ViTForImageClassification\n",
    "from utils import get_dataloaders, set_all_seeds\n",
    "from dataclasses import dataclass, field\n",
    "from typing import Dict\n",
    "from IPython.display import HTML"
   ]
  },
  {
   "cell_type": "code",
   "execution_count": 5,
   "id": "ae66b3db-bb92-4053-af0e-59fefb6415fb",
   "metadata": {
    "tags": []
   },
   "outputs": [
    {
     "name": "stdout",
     "output_type": "stream",
     "text": [
      "APTOS  DDR  FGADR  IDRiD  Messidor\n"
     ]
    }
   ],
   "source": [
    "!ls datasets"
   ]
  },
  {
   "cell_type": "code",
   "execution_count": 36,
   "id": "406b0050-ac48-40c8-80b1-522aa0a6d932",
   "metadata": {
    "tags": []
   },
   "outputs": [
    {
     "name": "stdout",
     "output_type": "stream",
     "text": [
      "Config(train=DataConfig(dir='datasets/DDR/train', batch_size=64, num_workers=8), val=DataConfig(dir='datasets/DDR/valid', batch_size=64, num_workers=8), test=DataConfig(dir='datasets/DDR/test', batch_size=64, num_workers=8))\n"
     ]
    }
   ],
   "source": [
    "@dataclass\n",
    "class DataConfig:\n",
    "    dir: str\n",
    "    batch_size: int\n",
    "    num_workers: int\n",
    "\n",
    "@dataclass\n",
    "class Config:\n",
    "    train: DataConfig\n",
    "    val: DataConfig\n",
    "    test: DataConfig\n",
    "\n",
    "\n",
    "config = Config(\n",
    "    train=DataConfig(\n",
    "        dir='datasets/DDR/train',\n",
    "        batch_size=64,\n",
    "        num_workers=8\n",
    "    ),\n",
    "    val=DataConfig(\n",
    "        dir='datasets/DDR/valid',\n",
    "        batch_size=64,\n",
    "        num_workers=8\n",
    "    ),\n",
    "    test=DataConfig(\n",
    "        dir='datasets/DDR/test',\n",
    "        batch_size=64,\n",
    "        num_workers=8\n",
    "    )\n",
    ")\n",
    "\n",
    "print(config)"
   ]
  },
  {
   "cell_type": "code",
   "execution_count": 42,
   "id": "c6b48e42-a0d0-4eaa-9da9-a63afc198a8f",
   "metadata": {
    "tags": []
   },
   "outputs": [],
   "source": [
    "ds_names = ['APTOS', 'DDR', 'FGADR', 'IDRiD', 'Messidor']\n",
    "loaders_lst = []\n",
    "ds_names_lst = [] \n",
    "\n",
    "for ds in ds_names: \n",
    "    \n",
    "    config.train.dir = f'datasets/{ds}/train'\n",
    "    config.val.dir = f'datasets/{ds}/valid'\n",
    "    config.test.dir = f'datasets/{ds}/test'\n",
    "    \n",
    "    train_loader, valid_loader, test_loader = get_dataloaders(config)\n",
    "    \n",
    "    loaders_lst.append(train_loader)\n",
    "    loaders_lst.append(valid_loader)\n",
    "    loaders_lst.append(test_loader)\n",
    "    \n",
    "    ds_names_lst.append(f'{ds} Train')\n",
    "    ds_names_lst.append(f'{ds} Validation')\n",
    "    ds_names_lst.append(f'{ds} Test')"
   ]
  },
  {
   "cell_type": "code",
   "execution_count": 43,
   "id": "c321d805-8e14-41b2-b41b-276a99fbf161",
   "metadata": {
    "tags": []
   },
   "outputs": [
    {
     "data": {
      "text/plain": [
       "['APTOS Train',\n",
       " 'APTOS Validation',\n",
       " 'APTOS Test',\n",
       " 'DDR Train',\n",
       " 'DDR Validation',\n",
       " 'DDR Test',\n",
       " 'FGADR Train',\n",
       " 'FGADR Validation',\n",
       " 'FGADR Test',\n",
       " 'IDRiD Train',\n",
       " 'IDRiD Validation',\n",
       " 'IDRiD Test',\n",
       " 'Messidor Train',\n",
       " 'Messidor Validation',\n",
       " 'Messidor Test']"
      ]
     },
     "execution_count": 43,
     "metadata": {},
     "output_type": "execute_result"
    }
   ],
   "source": [
    "ds_names_lst"
   ]
  },
  {
   "cell_type": "code",
   "execution_count": 44,
   "id": "4737eb92-1b0f-45ad-a87f-d726b43b7bfe",
   "metadata": {
    "tags": []
   },
   "outputs": [
    {
     "data": {
      "text/plain": [
       "<All keys matched successfully>"
      ]
     },
     "execution_count": 44,
     "metadata": {},
     "output_type": "execute_result"
    }
   ],
   "source": [
    "model = ViTForImageClassification.from_pretrained('google/vit-large-patch16-224')\n",
    "model = model.to('cuda')\n",
    "model.load_state_dict(torch.load('checkpoints/model_epoch_2_acc_0.815.pth')['model_state_dict'])"
   ]
  },
  {
   "cell_type": "code",
   "execution_count": 48,
   "id": "b2f8c0c0-7a3b-40ee-8220-5bb412fd1885",
   "metadata": {
    "tags": []
   },
   "outputs": [],
   "source": [
    "train_acc = []\n",
    "train_loss = []\n",
    "\n",
    "valid_acc = []\n",
    "valid_loss = []\n",
    "\n",
    "test_acc = []\n",
    "test_loss = []"
   ]
  },
  {
   "cell_type": "code",
   "execution_count": 49,
   "id": "50e3876b-9e5a-44b4-ba25-2a321e060f60",
   "metadata": {
    "tags": []
   },
   "outputs": [
    {
     "name": "stderr",
     "output_type": "stream",
     "text": [
      "100%|███████████████████████████████████████████| 49/49 [00:28<00:00,  1.74it/s]"
     ]
    },
    {
     "name": "stdout",
     "output_type": "stream",
     "text": [
      "Results of model inference on APTOS Train\n",
      "Loss : 1.174\n",
      "Accuracy : 0.589\n",
      "\n",
      "\n"
     ]
    },
    {
     "name": "stderr",
     "output_type": "stream",
     "text": [
      "\n",
      "100%|█████████████████████████████████████████████| 9/9 [00:05<00:00,  1.52it/s]"
     ]
    },
    {
     "name": "stdout",
     "output_type": "stream",
     "text": [
      "Results of model inference on APTOS Validation\n",
      "Loss : 1.147\n",
      "Accuracy : 0.566\n",
      "\n",
      "\n"
     ]
    },
    {
     "name": "stderr",
     "output_type": "stream",
     "text": [
      "\n",
      "100%|███████████████████████████████████████████| 31/31 [00:17<00:00,  1.75it/s]"
     ]
    },
    {
     "name": "stdout",
     "output_type": "stream",
     "text": [
      "Results of model inference on APTOS Test\n",
      "Loss : 3.504\n",
      "Accuracy : 0.121\n",
      "\n",
      "\n"
     ]
    },
    {
     "name": "stderr",
     "output_type": "stream",
     "text": [
      "\n",
      "100%|███████████████████████████████████████████| 98/98 [00:55<00:00,  1.77it/s]"
     ]
    },
    {
     "name": "stdout",
     "output_type": "stream",
     "text": [
      "Results of model inference on DDR Train\n",
      "Loss : 0.859\n",
      "Accuracy : 0.669\n",
      "\n",
      "\n"
     ]
    },
    {
     "name": "stderr",
     "output_type": "stream",
     "text": [
      "\n",
      "100%|███████████████████████████████████████████| 40/40 [00:22<00:00,  1.81it/s]"
     ]
    },
    {
     "name": "stdout",
     "output_type": "stream",
     "text": [
      "Results of model inference on DDR Validation\n",
      "Loss : 0.638\n",
      "Accuracy : 0.815\n",
      "\n",
      "\n"
     ]
    },
    {
     "name": "stderr",
     "output_type": "stream",
     "text": [
      "\n",
      "100%|███████████████████████████████████████████| 59/59 [00:32<00:00,  1.79it/s]"
     ]
    },
    {
     "name": "stdout",
     "output_type": "stream",
     "text": [
      "Results of model inference on DDR Test\n",
      "Loss : 0.817\n",
      "Accuracy : 0.699\n",
      "\n",
      "\n"
     ]
    },
    {
     "name": "stderr",
     "output_type": "stream",
     "text": [
      "\n",
      "100%|███████████████████████████████████████████| 21/21 [00:18<00:00,  1.11it/s]"
     ]
    },
    {
     "name": "stdout",
     "output_type": "stream",
     "text": [
      "Results of model inference on FGADR Train\n",
      "Loss : 2.292\n",
      "Accuracy : 0.187\n",
      "\n",
      "\n"
     ]
    },
    {
     "name": "stderr",
     "output_type": "stream",
     "text": [
      "\n",
      "100%|█████████████████████████████████████████████| 5/5 [00:03<00:00,  1.42it/s]"
     ]
    },
    {
     "name": "stdout",
     "output_type": "stream",
     "text": [
      "Results of model inference on FGADR Validation\n",
      "Loss : 1.763\n",
      "Accuracy : 0.281\n",
      "\n",
      "\n"
     ]
    },
    {
     "name": "stderr",
     "output_type": "stream",
     "text": [
      "\n",
      "100%|█████████████████████████████████████████████| 5/5 [00:03<00:00,  1.40it/s]"
     ]
    },
    {
     "name": "stdout",
     "output_type": "stream",
     "text": [
      "Results of model inference on FGADR Test\n",
      "Loss : 1.846\n",
      "Accuracy : 0.244\n",
      "\n",
      "\n"
     ]
    },
    {
     "name": "stderr",
     "output_type": "stream",
     "text": [
      "\n",
      "100%|█████████████████████████████████████████████| 6/6 [00:03<00:00,  1.56it/s]"
     ]
    },
    {
     "name": "stdout",
     "output_type": "stream",
     "text": [
      "Results of model inference on IDRiD Train\n",
      "Loss : 1.495\n",
      "Accuracy : 0.482\n",
      "\n",
      "\n"
     ]
    },
    {
     "name": "stderr",
     "output_type": "stream",
     "text": [
      "\n",
      "100%|█████████████████████████████████████████████| 1/1 [00:00<00:00,  1.10it/s]"
     ]
    },
    {
     "name": "stdout",
     "output_type": "stream",
     "text": [
      "Results of model inference on IDRiD Validation\n",
      "Loss : 1.083\n",
      "Accuracy : 0.516\n",
      "\n",
      "\n"
     ]
    },
    {
     "name": "stderr",
     "output_type": "stream",
     "text": [
      "\n",
      "100%|█████████████████████████████████████████████| 2/2 [00:01<00:00,  1.57it/s]"
     ]
    },
    {
     "name": "stdout",
     "output_type": "stream",
     "text": [
      "Results of model inference on IDRiD Test\n",
      "Loss : 1.599\n",
      "Accuracy : 0.373\n",
      "\n",
      "\n"
     ]
    },
    {
     "name": "stderr",
     "output_type": "stream",
     "text": [
      "\n",
      "100%|███████████████████████████████████████████| 20/20 [00:14<00:00,  1.37it/s]"
     ]
    },
    {
     "name": "stdout",
     "output_type": "stream",
     "text": [
      "Results of model inference on Messidor Train\n",
      "Loss : 1.257\n",
      "Accuracy : 0.499\n",
      "\n",
      "\n"
     ]
    },
    {
     "name": "stderr",
     "output_type": "stream",
     "text": [
      "\n",
      "100%|█████████████████████████████████████████████| 5/5 [00:04<00:00,  1.22it/s]"
     ]
    },
    {
     "name": "stdout",
     "output_type": "stream",
     "text": [
      "Results of model inference on Messidor Validation\n",
      "Loss : 1.649\n",
      "Accuracy : 0.375\n",
      "\n",
      "\n"
     ]
    },
    {
     "name": "stderr",
     "output_type": "stream",
     "text": [
      "\n",
      "100%|█████████████████████████████████████████████| 5/5 [00:03<00:00,  1.26it/s]"
     ]
    },
    {
     "name": "stdout",
     "output_type": "stream",
     "text": [
      "Results of model inference on Messidor Test\n",
      "Loss : 1.501\n",
      "Accuracy : 0.359\n",
      "\n",
      "\n"
     ]
    },
    {
     "name": "stderr",
     "output_type": "stream",
     "text": [
      "\n"
     ]
    }
   ],
   "source": [
    "for i , (loader, ds_name) in enumerate(zip(loaders_lst, ds_names_lst)): \n",
    "    with torch.inference_mode():\n",
    "        acc = 0\n",
    "        avg_loss = 0\n",
    "        for batch_idx, batch in tqdm(enumerate(loader), total=len(loader)): \n",
    "\n",
    "            X, y = batch\n",
    "            X = X.to(model.device)\n",
    "            y = y.to(model.device)\n",
    "\n",
    "            pred = model(pixel_values = X, labels = y)\n",
    "            class_pred = pred.logits.argmax(axis = 1)\n",
    "            acc += (class_pred == y).type(torch.float).mean()\n",
    "            avg_loss += pred.loss.item()\n",
    "\n",
    "            del pred\n",
    "            torch.cuda.empty_cache()\n",
    "\n",
    "\n",
    "        print(f'Results of model inference on {ds_name}')\n",
    "        print(f'Loss : {avg_loss / len(loader):.3f}')\n",
    "        print(f'Accuracy : {acc / len(loader):.3f}')   \n",
    "        print()\n",
    "        print()\n",
    "        \n",
    "        if (i % 3) == 0 :\n",
    "            train_acc.append(acc / len(loader))\n",
    "            train_loss.append(avg_loss / len(loader))\n",
    "        if (i % 3) == 1 :\n",
    "            valid_acc.append(acc / len(loader))\n",
    "            valid_loss.append(avg_loss / len(loader))            \n",
    "        if (i % 3) == 2 :\n",
    "            test_acc.append(acc / len(loader))\n",
    "            test_loss.append(avg_loss / len(loader))            "
   ]
  },
  {
   "cell_type": "code",
   "execution_count": 75,
   "id": "1ad809cb-fb7f-4ae8-91a6-02be9de719de",
   "metadata": {
    "tags": []
   },
   "outputs": [],
   "source": [
    "df_acc = pd.DataFrame(\n",
    "{\n",
    "'Dataset' : ds_names,\n",
    "'Train split' : [ np.round(item.item(), 3) for item in train_acc],\n",
    "'Val split' : [ np.round(item.item(), 3) for item in valid_acc],\n",
    "'Test split' : [ np.round(item.item(), 3) for item in test_acc]\n",
    "}\n",
    ")"
   ]
  },
  {
   "cell_type": "code",
   "execution_count": 76,
   "id": "b186c0e0-7684-4b4b-8a26-37cc0e33a1f4",
   "metadata": {
    "tags": []
   },
   "outputs": [
    {
     "data": {
      "text/html": [
       "<table border=\"1\" class=\"dataframe\">\n",
       "  <thead>\n",
       "    <tr style=\"text-align: right;\">\n",
       "      <th>Dataset</th>\n",
       "      <th>Train split</th>\n",
       "      <th>Val split</th>\n",
       "      <th>Test split</th>\n",
       "    </tr>\n",
       "  </thead>\n",
       "  <tbody>\n",
       "    <tr>\n",
       "      <td>APTOS</td>\n",
       "      <td>0.589</td>\n",
       "      <td>0.566</td>\n",
       "      <td>0.121</td>\n",
       "    </tr>\n",
       "    <tr>\n",
       "      <td>DDR</td>\n",
       "      <td>0.669</td>\n",
       "      <td>0.815</td>\n",
       "      <td>0.699</td>\n",
       "    </tr>\n",
       "    <tr>\n",
       "      <td>FGADR</td>\n",
       "      <td>0.187</td>\n",
       "      <td>0.281</td>\n",
       "      <td>0.244</td>\n",
       "    </tr>\n",
       "    <tr>\n",
       "      <td>IDRiD</td>\n",
       "      <td>0.482</td>\n",
       "      <td>0.516</td>\n",
       "      <td>0.373</td>\n",
       "    </tr>\n",
       "    <tr>\n",
       "      <td>Messidor</td>\n",
       "      <td>0.499</td>\n",
       "      <td>0.375</td>\n",
       "      <td>0.359</td>\n",
       "    </tr>\n",
       "  </tbody>\n",
       "</table>"
      ],
      "text/plain": [
       "<IPython.core.display.HTML object>"
      ]
     },
     "execution_count": 76,
     "metadata": {},
     "output_type": "execute_result"
    }
   ],
   "source": [
    "HTML(df_acc.to_html(index=False))"
   ]
  },
  {
   "cell_type": "code",
   "execution_count": 71,
   "id": "0bcc3f11-1b46-434f-aadf-bc583279f3b7",
   "metadata": {
    "tags": []
   },
   "outputs": [],
   "source": [
    "df_loss = pd.DataFrame(\n",
    "{\n",
    "'Dataset' : ds_names,\n",
    "'Train split' : [ np.round(item, 3) for item in train_loss],\n",
    "'Val split' : [ np.round(item, 3) for item in valid_loss],\n",
    "'Test split' : [ np.round(item, 3) for item in test_loss]\n",
    "}\n",
    ")"
   ]
  },
  {
   "cell_type": "code",
   "execution_count": 72,
   "id": "c03c04d6-2af7-45eb-96a5-854e8ba46d13",
   "metadata": {
    "tags": []
   },
   "outputs": [
    {
     "data": {
      "text/html": [
       "<table border=\"1\" class=\"dataframe\">\n",
       "  <thead>\n",
       "    <tr style=\"text-align: right;\">\n",
       "      <th>Dataset</th>\n",
       "      <th>Train split</th>\n",
       "      <th>Val split</th>\n",
       "      <th>Test split</th>\n",
       "    </tr>\n",
       "  </thead>\n",
       "  <tbody>\n",
       "    <tr>\n",
       "      <td>APTOS</td>\n",
       "      <td>1.174</td>\n",
       "      <td>1.147</td>\n",
       "      <td>3.504</td>\n",
       "    </tr>\n",
       "    <tr>\n",
       "      <td>DDR</td>\n",
       "      <td>0.859</td>\n",
       "      <td>0.638</td>\n",
       "      <td>0.817</td>\n",
       "    </tr>\n",
       "    <tr>\n",
       "      <td>FGADR</td>\n",
       "      <td>2.292</td>\n",
       "      <td>1.763</td>\n",
       "      <td>1.846</td>\n",
       "    </tr>\n",
       "    <tr>\n",
       "      <td>IDRiD</td>\n",
       "      <td>1.495</td>\n",
       "      <td>1.083</td>\n",
       "      <td>1.599</td>\n",
       "    </tr>\n",
       "    <tr>\n",
       "      <td>Messidor</td>\n",
       "      <td>1.257</td>\n",
       "      <td>1.649</td>\n",
       "      <td>1.501</td>\n",
       "    </tr>\n",
       "  </tbody>\n",
       "</table>"
      ],
      "text/plain": [
       "<IPython.core.display.HTML object>"
      ]
     },
     "execution_count": 72,
     "metadata": {},
     "output_type": "execute_result"
    }
   ],
   "source": [
    "HTML(df_loss.to_html(index=False))"
   ]
  }
 ],
 "metadata": {
  "kernelspec": {
   "display_name": "Python 3 (ipykernel)",
   "language": "python",
   "name": "python3"
  },
  "language_info": {
   "codemirror_mode": {
    "name": "ipython",
    "version": 3
   },
   "file_extension": ".py",
   "mimetype": "text/x-python",
   "name": "python",
   "nbconvert_exporter": "python",
   "pygments_lexer": "ipython3",
   "version": "3.12.3"
  }
 },
 "nbformat": 4,
 "nbformat_minor": 5
}
